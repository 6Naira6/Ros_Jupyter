{
  "cells": [
    {
      "cell_type": "markdown",
      "id": "d236401a-71bf-4605-b87f-1cb9326e5d33",
      "metadata": {
        "id": "d236401a-71bf-4605-b87f-1cb9326e5d33"
      },
      "source": [
        "# Jupyter-Based UI for Assignment2\n",
        "\n",
        "This notebook replaces the original `action_client.py` (Node A) from the `assignment_2_2024` ROS package.\n",
        "\n",
        "It provides:\n",
        "- A graphical interface to assign and cancel goals for the robot\n",
        "- Live feedback on robot position and obstacle proximity\n",
        "- Real-time plots of the robot’s trajectory and goal outcomes\n",
        "\n",
        "This interface connects directly to:\n",
        "- `/reaching_goal` action server (handled by `bug_as.py`)\n",
        "- `/odom` and `/scan` topics (for position and obstacle detection)\n",
        "- `/last_target` topic (publishes the last sent goal)\n",
        "\n",
        "The notebook requires that ROS environment and Gazebo simulation are launched before running.\n"
      ]
    },
    {
      "cell_type": "markdown",
      "source": [
        "# Section 1: Graphical Interface"
      ],
      "metadata": {
        "id": "Gg-ZAkutxd2n"
      },
      "id": "Gg-ZAkutxd2n"
    },
    {
      "cell_type": "markdown",
      "source": [
        "## Part 1: Import Required Libraries\n",
        "\n",
        "We import all the necessary Python and ROS libraries to:\n",
        "- Communicate with the ROS action server and topics\n",
        "- Build the interactive control panel using Jupyter widgets\n",
        "- Visualize the robot's trajectory and goal statistics using matplotlib\n"
      ],
      "metadata": {
        "id": "JWMreenzVG3e"
      },
      "id": "JWMreenzVG3e"
    },
    {
      "cell_type": "code",
      "execution_count": 2,
      "id": "22a0ec6e-70a7-4802-be86-2172d1ef0758",
      "metadata": {
        "id": "22a0ec6e-70a7-4802-be86-2172d1ef0758"
      },
      "outputs": [],
      "source": [
        "import rospy\n",
        "import actionlib\n",
        "from nav_msgs.msg import Odometry\n",
        "from sensor_msgs.msg import LaserScan\n",
        "#from geometry_msgs.msg import Point\n",
        "from std_msgs.msg import String\n",
        "from assignment_2_2024.msg import PlanningAction, PlanningGoal\n",
        "\n",
        "\n",
        "import ipywidgets as widgets\n",
        "from IPython.display import display\n",
        "import matplotlib.pyplot as plt\n",
        "from matplotlib.animation import FuncAnimation"
      ]
    },
    {
      "cell_type": "markdown",
      "id": "70ca4e7b-70d5-42e2-8450-73da67ac2c8d",
      "metadata": {
        "id": "70ca4e7b-70d5-42e2-8450-73da67ac2c8d"
      },
      "source": [
        "## Part 2: Node Setup and Global State\n",
        "\n",
        "We initialize the notebook as a ROS node (`jupyter_action_client`) and define global variables:\n",
        "\n",
        "- `client`: the action client that communicates with the `/reaching_goal` server\n",
        "- `odom_sub` and `scan_sub`: subscribers for odometry and laser scan data\n",
        "- `last_target_pub`: publishes the last target coordinates to `/last_target`\n",
        "- `current_position`: stores the robot’s real-time x/y position\n",
        "- `reached_goals` and `failed_goals`: lists to track the outcome of each goal\n",
        "\n",
        "These variables allow us to monitor and control the robot throughout the session.\n"
      ]
    },
    {
      "cell_type": "code",
      "execution_count": 3,
      "id": "8ccb0b8a-889e-444a-8855-f716ed68e790",
      "metadata": {
        "id": "8ccb0b8a-889e-444a-8855-f716ed68e790"
      },
      "outputs": [],
      "source": [
        "rospy.init_node('jupyter_action_client', anonymous=True)\n",
        "\n",
        "client = None\n",
        "odom_sub = None\n",
        "scan_sub = None\n",
        "last_target_pub = None\n",
        "\n",
        "current_position = {'x': 0.0, 'y': 0.0}\n",
        "regions_ = {}\n",
        "reached_goals = []\n",
        "failed_goals = []"
      ]
    },
    {
      "cell_type": "markdown",
      "id": "8980acab-bd3c-4baf-961e-06e7c3dc0a51",
      "metadata": {
        "id": "8980acab-bd3c-4baf-961e-06e7c3dc0a51"
      },
      "source": [
        "## Part 3: Interface Widgets for Goal Control\n",
        "\n",
        "This Part creates the graphical controls for interacting with the robot:\n",
        "\n",
        "- Sliders: to specify the x and y coordinates of the goal\n",
        "- Buttons: to send or cancel goals\n"
      ]
    },
    {
      "cell_type": "code",
      "execution_count": null,
      "id": "08f4ff4a-8bdb-4163-a77f-baaa4308b3a4",
      "metadata": {
        "id": "08f4ff4a-8bdb-4163-a77f-baaa4308b3a4"
      },
      "outputs": [],
      "source": [
        "x_slider = widgets.FloatSlider(value=0.0, min=-9.0, max=9.0, step=0.5, description='X:')\n",
        "y_slider = widgets.FloatSlider(value=0.0, min=-9.0, max=9.0, step=0.5, description='Y:')\n",
        "\n",
        "send_button = widgets.Button(description='Send Goal', button_style='success')\n",
        "cancel_button = widgets.Button(description='Cancel Goal', button_style='danger')\n",
        "\n",
        "position_label = widgets.Label(value=\"Robot Position: (0.00, 0.00)\")\n",
        "obstacle_label = widgets.Label(value=\"Distance to nearest obstacle: N/A\")\n",
        "\n",
        "ui = widgets.VBox([\n",
        "    x_slider,\n",
        "    y_slider,\n",
        "    widgets.HBox([send_button, cancel_button]),\n",
        "    position_label,\n",
        "    obstacle_label\n",
        "])\n",
        "\n",
        "display(ui)"
      ]
    },
    {
      "cell_type": "markdown",
      "id": "437ff856-50a1-42f0-899a-c1e178f2e2d2",
      "metadata": {
        "id": "437ff856-50a1-42f0-899a-c1e178f2e2d2"
      },
      "source": [
        "## Part 4: Subscribers for Robot State and Laser Scans\n",
        "\n",
        "We subscribe to two key topics:\n",
        "- `/odom`: for real-time robot position, updated in `current_position`\n",
        "- `/scan`: for distance to obstacles, segmented into five angular regions\n",
        "\n",
        "The callback functions update the UI labels to reflect the most current robot position and nearest obstacle direction and distance.\n",
        "\n",
        "Utility functions `argmin` and `get_min_laser` help identify the closest region from the scan.\n"
      ]
    },
    {
      "cell_type": "code",
      "source": [
        "def odom_callback(msg):\n",
        "    global current_position\n",
        "    current_position['x'] = msg.pose.pose.position.x\n",
        "    current_position['y'] = msg.pose.pose.position.y\n",
        "    position_label.value = f\"Robot Position: ({current_position['x']:.2f}, {current_position['y']:.2f})\"\n",
        "\n",
        "def scan_callback(msg):\n",
        "    global regions_\n",
        "    regions_ = {\n",
        "        'right':  min(min(msg.ranges[0:143]), 10),\n",
        "        'fright': min(min(msg.ranges[144:287]), 10),\n",
        "        'front':  min(min(msg.ranges[288:431]), 10),\n",
        "        'fleft':  min(min(msg.ranges[432:575]), 10),\n",
        "        'left':   min(min(msg.ranges[576:719]), 10),\n",
        "    }\n",
        "    min_val, direction = get_min_laser(regions_)\n",
        "    obstacle_label.value = f\"Distance to nearest obstacle: {min_val:.2f} (Direction: {direction})\"\n",
        "\n",
        "def argmin(lst):\n",
        "    i, val = min(enumerate(lst), key=lambda x: x[1])\n",
        "    return i, val\n",
        "\n",
        "def get_min_laser(regions):\n",
        "    idx, val = argmin(list(regions.values()))\n",
        "    return val, list(regions.keys())[idx]"
      ],
      "metadata": {
        "id": "8Q_ZUXOdUY6m"
      },
      "id": "8Q_ZUXOdUY6m",
      "execution_count": 6,
      "outputs": []
    },
    {
      "cell_type": "markdown",
      "id": "655e2a27-bab5-43e6-9460-22363436c94b",
      "metadata": {
        "id": "655e2a27-bab5-43e6-9460-22363436c94b"
      },
      "source": [
        "## Part 5: Action Client for Sending and Canceling Goals\n",
        "\n",
        "We set up the ROS action client for the `/reaching_goal` action server.\n",
        "\n",
        "- `send_goal_callback`: sends the selected goal coordinates using `PlanningGoal`, and also publishes the goal to `/last_target`\n",
        "- `cancel_goal_callback`: cancels the current goal\n",
        "- `feedback_cb`: logs feedback when a goal is reached or cancelled, storing the result for visual feedback\n",
        "\n",
        "This Part replicates the logic in `action_client.py` using the interactive widgets in place of console input.\n",
        "\n",
        "Now we can test the widgets we put previously."
      ]
    },
    {
      "cell_type": "code",
      "execution_count": 7,
      "id": "da79f31c-d161-44b2-bbc2-e466840c968a",
      "metadata": {
        "id": "da79f31c-d161-44b2-bbc2-e466840c968a",
        "colab": {
          "base_uri": "https://localhost:8080/"
        },
        "outputId": "33ca0089-5cf9-46e3-a181-73f00c3196fa"
      },
      "outputs": [
        {
          "output_type": "stream",
          "name": "stdout",
          "text": [
            "Waiting for action server...\n",
            "Connected to action server!\n"
          ]
        }
      ],
      "source": [
        "def feedback_cb(feedback):\n",
        "    if feedback.stat == \"Target reached!\":\n",
        "        reached_goals.append((current_position['x'], current_position['y']))\n",
        "        print(\"Target reached!\")\n",
        "    elif feedback.stat == \"Target cancelled!\":\n",
        "        failed_goals.append((current_position['x'], current_position['y']))\n",
        "        print(\"Goal cancelled.\")\n",
        "\n",
        "def send_goal_callback(b):\n",
        "    goal = PlanningGoal()\n",
        "    goal.target_pose.pose.position.x = x_slider.value\n",
        "    goal.target_pose.pose.position.y = y_slider.value\n",
        "    client.send_goal(goal, feedback_cb=feedback_cb)\n",
        "\n",
        "    last_target_pub.publish(f\"{x_slider.value}, {y_slider.value}\")\n",
        "    print(f\"Sent goal to ({x_slider.value}, {y_slider.value})\")\n",
        "\n",
        "def cancel_goal_callback(b):\n",
        "    client.cancel_goal()\n",
        "    print(\"Cancelled current goal.\")\n",
        "\n",
        "send_button.on_click(send_goal_callback)\n",
        "cancel_button.on_click(cancel_goal_callback)\n",
        "\n",
        "client = actionlib.SimpleActionClient('/reaching_goal', PlanningAction)\n",
        "print(\"Waiting for action server...\")\n",
        "client.wait_for_server()\n",
        "print(\"Connected to action server!\")\n",
        "\n",
        "odom_sub = rospy.Subscriber('/odom', Odometry, odom_callback)\n",
        "scan_sub = rospy.Subscriber('/scan', LaserScan, scan_callback)\n",
        "last_target_pub = rospy.Publisher('/last_target', String, queue_size=10)"
      ]
    },
    {
      "cell_type": "markdown",
      "source": [
        "# Section 2: Trajectory Plotting"
      ],
      "metadata": {
        "id": "DVn1CJF3x06s"
      },
      "id": "DVn1CJF3x06s"
    },
    {
      "cell_type": "markdown",
      "id": "ea9ef2b0-a220-4d20-97b9-9eb7213811da",
      "metadata": {
        "id": "ea9ef2b0-a220-4d20-97b9-9eb7213811da"
      },
      "source": [
        "## Part 1: Set Up Live Visualization Plots\n",
        "\n",
        "We prepare two subplots using matplotlib:\n",
        "- Left plot: robot trail (blue), current position (red), reached goals (green), and failed goals (red X)\n",
        "- Right plot: pie chart showing the ratio of reached vs failed goals\n",
        "\n",
        "This setup enables real-time monitoring of the robot's movement and task performance.\n"
      ]
    },
    {
      "cell_type": "code",
      "execution_count": 13,
      "id": "f104a240-f561-41b6-b369-2456447555a5",
      "metadata": {
        "id": "f104a240-f561-41b6-b369-2456447555a5",
        "colab": {
          "base_uri": "https://localhost:8080/",
          "height": 505
        },
        "outputId": "5139883d-f068-40cb-f74e-5dbaa8fafa43"
      },
      "outputs": [
        {
          "output_type": "execute_result",
          "data": {
            "text/plain": [
              "<matplotlib.legend.Legend at 0x782970149b10>"
            ]
          },
          "metadata": {},
          "execution_count": 13
        },
        {
          "output_type": "display_data",
          "data": {
            "text/plain": [
              "<Figure size 1000x500 with 2 Axes>"
            ],
            "image/png": "[encoded data removed]"
          },
          "metadata": {}
        }
      ],
      "source": [
        "x_data = []\n",
        "y_data = []\n",
        "\n",
        "fig, (ax_trail, ax_summary) = plt.subplots(1, 2, figsize=(10, 5))\n",
        "trail_line, = ax_trail.plot([], [], 'b--', label='Path')\n",
        "current_dot = ax_trail.scatter([], [], c='red', s=100, label='Current Pos')\n",
        "reached_scatter = ax_trail.scatter([], [], c='green', s=80, label='Reached')\n",
        "failed_scatter = ax_trail.scatter([], [], c='red', marker='x', s=80, label='Failed')\n",
        "\n",
        "ax_trail.set_xlim(-10, 10)\n",
        "ax_trail.set_ylim(-10, 10)\n",
        "ax_trail.set_title(\"Robot Path\")\n",
        "ax_trail.set_xlabel(\"X\")\n",
        "ax_trail.set_ylabel(\"Y\")\n",
        "ax_trail.legend()"
      ]
    },
    {
      "cell_type": "markdown",
      "id": "6b18c7cb-deb5-4482-98af-cf44b72583fb",
      "metadata": {
        "id": "6b18c7cb-deb5-4482-98af-cf44b72583fb"
      },
      "source": [
        "## Part 2: Live Animation of Robot Position and Goal Outcomes\n",
        "\n",
        "Using `FuncAnimation`, we update the plots at regular intervals:\n",
        "\n",
        "- The robot’s path is updated as it moves\n",
        "- Reached and failed goal positions are updated\n",
        "- The goal outcome pie chart is refreshed\n",
        "\n",
        "This section provides visual insight into how the robot is performing over time.\n"
      ]
    },
    {
      "cell_type": "code",
      "execution_count": 14,
      "id": "4b6712ee-8606-4964-9a93-29ace64a358c",
      "metadata": {
        "id": "4b6712ee-8606-4964-9a93-29ace64a358c",
        "colab": {
          "base_uri": "https://localhost:8080/"
        },
        "outputId": "c058d41a-69cb-4438-cf3a-97f44d1e3864"
      },
      "outputs": [
        {
          "output_type": "stream",
          "name": "stderr",
          "text": [
            "<ipython-input-14-07bc1de442b3>:24: UserWarning: frames=None which we can infer the length of, did not pass an explicit *save_count* and passed cache_frame_data=True.  To avoid a possibly unbounded cache, frame data caching has been disabled. To suppress this warning either pass `cache_frame_data=False` or `save_count=MAX_FRAMES`.\n",
            "  ani = FuncAnimation(fig, update, interval=200)\n"
          ]
        }
      ],
      "source": [
        "def update_goal_plot():\n",
        "    ax_summary.clear()\n",
        "    r, f = len(reached_goals), len(failed_goals)\n",
        "    ax_summary.pie([r, f], labels=[\"Reached\", \"Failed\"], colors=[\"green\", \"red\"], autopct=\"%1.0f%%\")\n",
        "    ax_summary.set_title(\"Goal Outcome\")\n",
        "\n",
        "def update(frame):\n",
        "    x = current_position['x']\n",
        "    y = current_position['y']\n",
        "    x_data.append(x)\n",
        "    y_data.append(y)\n",
        "\n",
        "    trail_line.set_data(x_data[-400:], y_data[-400:])\n",
        "    current_dot.set_offsets([[x, y]])\n",
        "\n",
        "    if reached_goals:\n",
        "        reached_scatter.set_offsets(reached_goals)\n",
        "    if failed_goals:\n",
        "        failed_scatter.set_offsets(failed_goals)\n",
        "\n",
        "    update_goal_plot()\n",
        "    return trail_line, current_dot, reached_scatter, failed_scatter\n",
        "\n",
        "ani = FuncAnimation(fig, update, interval=200)"
      ]
    },
    {
      "cell_type": "markdown",
      "source": [
        "# Section 3: Full UI With Visualization\n",
        "\n",
        "We combine the widgets and plots into a complete interactive dashboard:\n",
        "\n",
        "- Users can set or cancel goals using sliders and buttons\n",
        "- The robot’s position and obstacle info update live\n",
        "- Plots provide continuous visual feedback on the robot’s trajectory and performance"
      ],
      "metadata": {
        "id": "NyakALMgUjDl"
      },
      "id": "NyakALMgUjDl"
    },
    {
      "cell_type": "code",
      "source": [
        "%matplotlib inline\n",
        "\n",
        "display(ui)\n",
        "display(fig)"
      ],
      "metadata": {
        "id": "W1VntcMEUiZz",
        "colab": {
          "base_uri": "https://localhost:8080/",
          "height": 647,
          "referenced_widgets": [
            "c1e22ecd06b04d85800ada0073eb27c6",
            "c6472704ecf145839c1a14e26ef4a805",
            "8c86315670a74f109da766b72361ea83",
            "0d125565d5634b3f9ee8ff2d337fddaa",
            "30a59da4e2e44fd89920d55a5e88e831",
            "a95c1f7261274f3b91f896c2ebb8945b",
            "d7158dfc0bda4effb3297fd86f81c321",
            "8b356a04518a43a6b0582b516373fe26",
            "f162bd5749a94baebb0cc2a1a8b17165",
            "607deb0f47b4458c9bf6739430ff468e",
            "6e148c3fd3db45069d0a3fb4c46f22b6",
            "873b4773ae144cd48c196aa734da4795",
            "761468c54108408595ef7f3f16278ffd",
            "d31f8d69add0463d8b66806474e16139",
            "fdb91e1afed140399d9423b0df7bfec6",
            "5d2f5afe891a43ba8be5f26088fdbbd2",
            "c117f49ec0b8474f92a3f90ae954f712",
            "182275e217494c3f8bdc29c43f3783df",
            "fa0425c674d5404b98f8cc497eaeb64b",
            "e10c683350354acbba8a4c3ea67b9e2a",
            "efefe080cb204f44a606657ccd6820bc",
            "09f4dc5e8f0747f88693497dd22b9cbc"
          ]
        },
        "outputId": "75474e1d-290e-4794-ddc5-b6cfab054866"
      },
      "id": "W1VntcMEUiZz",
      "execution_count": 40,
      "outputs": [
        {
          "output_type": "display_data",
          "data": {
            "text/plain": [
              "VBox(children=(FloatSlider(value=0.0, description='X:', max=9.0, min=-9.0, step=0.5), FloatSlider(value=0.0, d…"
            ],
            "application/vnd.jupyter.widget-view+json": {
              "version_major": 2,
              "version_minor": 0,
              "model_id": "c1e22ecd06b04d85800ada0073eb27c6"
            }
          },
          "metadata": {}
        },
        {
          "output_type": "display_data",
          "data": {
            "text/plain": [
              "<Figure size 1100x500 with 2 Axes>"
            ],
            "image/png": "[encoded data removed]"
          },
          "metadata": {}
        }
      ]
    }
  ],
  "metadata": {
    "kernelspec": {
      "display_name": "Python 3 (ipykernel)",
      "language": "python",
      "name": "python3"
    },
    "language_info": {
      "codemirror_mode": {
        "name": "ipython",
        "version": 3
      },
      "file_extension": ".py",
      "mimetype": "text/x-python",
      "name": "python",
      "nbconvert_exporter": "python",
      "pygments_lexer": "ipython3",
      "version": "3.12.7"
    },
    "colab": {
      "provenance": []
    },
    "widgets": {
      "application/vnd.jupyter.widget-state+json": {
        "c1e22ecd06b04d85800ada0073eb27c6": {
          "model_module": "@jupyter-widgets/controls",
          "model_name": "VBoxModel",
          "model_module_version": "1.5.0",
          "state": {
            "_dom_classes": [],
            "_model_module": "@jupyter-widgets/controls",
            "_model_module_version": "1.5.0",
            "_model_name": "VBoxModel",
            "_view_count": null,
            "_view_module": "@jupyter-widgets/controls",
            "_view_module_version": "1.5.0",
            "_view_name": "VBoxView",
            "box_style": "",
            "children": [
              "IPY_MODEL_c6472704ecf145839c1a14e26ef4a805",
              "IPY_MODEL_8c86315670a74f109da766b72361ea83",
              "IPY_MODEL_0d125565d5634b3f9ee8ff2d337fddaa",
              "IPY_MODEL_30a59da4e2e44fd89920d55a5e88e831",
              "IPY_MODEL_a95c1f7261274f3b91f896c2ebb8945b"
            ],
            "layout": "IPY_MODEL_d7158dfc0bda4effb3297fd86f81c321"
          }
        },
        "c6472704ecf145839c1a14e26ef4a805": {
          "model_module": "@jupyter-widgets/controls",
          "model_name": "FloatSliderModel",
          "model_module_version": "1.5.0",
          "state": {
            "_dom_classes": [],
            "_model_module": "@jupyter-widgets/controls",
            "_model_module_version": "1.5.0",
            "_model_name": "FloatSliderModel",
            "_view_count": null,
            "_view_module": "@jupyter-widgets/controls",
            "_view_module_version": "1.5.0",
            "_view_name": "FloatSliderView",
            "continuous_update": true,
            "description": "X:",
            "description_tooltip": null,
            "disabled": false,
            "layout": "IPY_MODEL_8b356a04518a43a6b0582b516373fe26",
            "max": 9,
            "min": -9,
            "orientation": "horizontal",
            "readout": true,
            "readout_format": ".2f",
            "step": 0.5,
            "style": "IPY_MODEL_f162bd5749a94baebb0cc2a1a8b17165",
            "value": 0
          }
        },
        "8c86315670a74f109da766b72361ea83": {
          "model_module": "@jupyter-widgets/controls",
          "model_name": "FloatSliderModel",
          "model_module_version": "1.5.0",
          "state": {
            "_dom_classes": [],
            "_model_module": "@jupyter-widgets/controls",
            "_model_module_version": "1.5.0",
            "_model_name": "FloatSliderModel",
            "_view_count": null,
            "_view_module": "@jupyter-widgets/controls",
            "_view_module_version": "1.5.0",
            "_view_name": "FloatSliderView",
            "continuous_update": true,
            "description": "Y:",
            "description_tooltip": null,
            "disabled": false,
            "layout": "IPY_MODEL_607deb0f47b4458c9bf6739430ff468e",
            "max": 9,
            "min": -9,
            "orientation": "horizontal",
            "readout": true,
            "readout_format": ".2f",
            "step": 0.5,
            "style": "IPY_MODEL_6e148c3fd3db45069d0a3fb4c46f22b6",
            "value": 0
          }
        },
        "0d125565d5634b3f9ee8ff2d337fddaa": {
          "model_module": "@jupyter-widgets/controls",
          "model_name": "HBoxModel",
          "model_module_version": "1.5.0",
          "state": {
            "_dom_classes": [],
            "_model_module": "@jupyter-widgets/controls",
            "_model_module_version": "1.5.0",
            "_model_name": "HBoxModel",
            "_view_count": null,
            "_view_module": "@jupyter-widgets/controls",
            "_view_module_version": "1.5.0",
            "_view_name": "HBoxView",
            "box_style": "",
            "children": [
              "IPY_MODEL_873b4773ae144cd48c196aa734da4795",
              "IPY_MODEL_761468c54108408595ef7f3f16278ffd"
            ],
            "layout": "IPY_MODEL_d31f8d69add0463d8b66806474e16139"
          }
        },
        "30a59da4e2e44fd89920d55a5e88e831": {
          "model_module": "@jupyter-widgets/controls",
          "model_name": "LabelModel",
          "model_module_version": "1.5.0",
          "state": {
            "_dom_classes": [],
            "_model_module": "@jupyter-widgets/controls",
            "_model_module_version": "1.5.0",
            "_model_name": "LabelModel",
            "_view_count": null,
            "_view_module": "@jupyter-widgets/controls",
            "_view_module_version": "1.5.0",
            "_view_name": "LabelView",
            "description": "",
            "description_tooltip": null,
            "layout": "IPY_MODEL_fdb91e1afed140399d9423b0df7bfec6",
            "placeholder": "​",
            "style": "IPY_MODEL_5d2f5afe891a43ba8be5f26088fdbbd2",
            "value": "Robot Position: (2.00, 0.80)"
          }
        },
        "a95c1f7261274f3b91f896c2ebb8945b": {
          "model_module": "@jupyter-widgets/controls",
          "model_name": "LabelModel",
          "model_module_version": "1.5.0",
          "state": {
            "_dom_classes": [],
            "_model_module": "@jupyter-widgets/controls",
            "_model_module_version": "1.5.0",
            "_model_name": "LabelModel",
            "_view_count": null,
            "_view_module": "@jupyter-widgets/controls",
            "_view_module_version": "1.5.0",
            "_view_name": "LabelView",
            "description": "",
            "description_tooltip": null,
            "layout": "IPY_MODEL_c117f49ec0b8474f92a3f90ae954f712",
            "placeholder": "​",
            "style": "IPY_MODEL_182275e217494c3f8bdc29c43f3783df",
            "value": "Distance to nearest obstacle:"
          }
        },
        "d7158dfc0bda4effb3297fd86f81c321": {
          "model_module": "@jupyter-widgets/base",
          "model_name": "LayoutModel",
          "model_module_version": "1.2.0",
          "state": {
            "_model_module": "@jupyter-widgets/base",
            "_model_module_version": "1.2.0",
            "_model_name": "LayoutModel",
            "_view_count": null,
            "_view_module": "@jupyter-widgets/base",
            "_view_module_version": "1.2.0",
            "_view_name": "LayoutView",
            "align_content": null,
            "align_items": null,
            "align_self": null,
            "border": null,
            "bottom": null,
            "display": null,
            "flex": null,
            "flex_flow": null,
            "grid_area": null,
            "grid_auto_columns": null,
            "grid_auto_flow": null,
            "grid_auto_rows": null,
            "grid_column": null,
            "grid_gap": null,
            "grid_row": null,
            "grid_template_areas": null,
            "grid_template_columns": null,
            "grid_template_rows": null,
            "height": null,
            "justify_content": null,
            "justify_items": null,
            "left": null,
            "margin": null,
            "max_height": null,
            "max_width": null,
            "min_height": null,
            "min_width": null,
            "object_fit": null,
            "object_position": null,
            "order": null,
            "overflow": null,
            "overflow_x": null,
            "overflow_y": null,
            "padding": null,
            "right": null,
            "top": null,
            "visibility": null,
            "width": null
          }
        },
        "8b356a04518a43a6b0582b516373fe26": {
          "model_module": "@jupyter-widgets/base",
          "model_name": "LayoutModel",
          "model_module_version": "1.2.0",
          "state": {
            "_model_module": "@jupyter-widgets/base",
            "_model_module_version": "1.2.0",
            "_model_name": "LayoutModel",
            "_view_count": null,
            "_view_module": "@jupyter-widgets/base",
            "_view_module_version": "1.2.0",
            "_view_name": "LayoutView",
            "align_content": null,
            "align_items": null,
            "align_self": null,
            "border": null,
            "bottom": null,
            "display": null,
            "flex": null,
            "flex_flow": null,
            "grid_area": null,
            "grid_auto_columns": null,
            "grid_auto_flow": null,
            "grid_auto_rows": null,
            "grid_column": null,
            "grid_gap": null,
            "grid_row": null,
            "grid_template_areas": null,
            "grid_template_columns": null,
            "grid_template_rows": null,
            "height": null,
            "justify_content": null,
            "justify_items": null,
            "left": null,
            "margin": null,
            "max_height": null,
            "max_width": null,
            "min_height": null,
            "min_width": null,
            "object_fit": null,
            "object_position": null,
            "order": null,
            "overflow": null,
            "overflow_x": null,
            "overflow_y": null,
            "padding": null,
            "right": null,
            "top": null,
            "visibility": null,
            "width": null
          }
        },
        "f162bd5749a94baebb0cc2a1a8b17165": {
          "model_module": "@jupyter-widgets/controls",
          "model_name": "SliderStyleModel",
          "model_module_version": "1.5.0",
          "state": {
            "_model_module": "@jupyter-widgets/controls",
            "_model_module_version": "1.5.0",
            "_model_name": "SliderStyleModel",
            "_view_count": null,
            "_view_module": "@jupyter-widgets/base",
            "_view_module_version": "1.2.0",
            "_view_name": "StyleView",
            "description_width": "",
            "handle_color": null
          }
        },
        "607deb0f47b4458c9bf6739430ff468e": {
          "model_module": "@jupyter-widgets/base",
          "model_name": "LayoutModel",
          "model_module_version": "1.2.0",
          "state": {
            "_model_module": "@jupyter-widgets/base",
            "_model_module_version": "1.2.0",
            "_model_name": "LayoutModel",
            "_view_count": null,
            "_view_module": "@jupyter-widgets/base",
            "_view_module_version": "1.2.0",
            "_view_name": "LayoutView",
            "align_content": null,
            "align_items": null,
            "align_self": null,
            "border": null,
            "bottom": null,
            "display": null,
            "flex": null,
            "flex_flow": null,
            "grid_area": null,
            "grid_auto_columns": null,
            "grid_auto_flow": null,
            "grid_auto_rows": null,
            "grid_column": null,
            "grid_gap": null,
            "grid_row": null,
            "grid_template_areas": null,
            "grid_template_columns": null,
            "grid_template_rows": null,
            "height": null,
            "justify_content": null,
            "justify_items": null,
            "left": null,
            "margin": null,
            "max_height": null,
            "max_width": null,
            "min_height": null,
            "min_width": null,
            "object_fit": null,
            "object_position": null,
            "order": null,
            "overflow": null,
            "overflow_x": null,
            "overflow_y": null,
            "padding": null,
            "right": null,
            "top": null,
            "visibility": null,
            "width": null
          }
        },
        "6e148c3fd3db45069d0a3fb4c46f22b6": {
          "model_module": "@jupyter-widgets/controls",
          "model_name": "SliderStyleModel",
          "model_module_version": "1.5.0",
          "state": {
            "_model_module": "@jupyter-widgets/controls",
            "_model_module_version": "1.5.0",
            "_model_name": "SliderStyleModel",
            "_view_count": null,
            "_view_module": "@jupyter-widgets/base",
            "_view_module_version": "1.2.0",
            "_view_name": "StyleView",
            "description_width": "",
            "handle_color": null
          }
        },
        "873b4773ae144cd48c196aa734da4795": {
          "model_module": "@jupyter-widgets/controls",
          "model_name": "ButtonModel",
          "model_module_version": "1.5.0",
          "state": {
            "_dom_classes": [],
            "_model_module": "@jupyter-widgets/controls",
            "_model_module_version": "1.5.0",
            "_model_name": "ButtonModel",
            "_view_count": null,
            "_view_module": "@jupyter-widgets/controls",
            "_view_module_version": "1.5.0",
            "_view_name": "ButtonView",
            "button_style": "success",
            "description": "Send Goal",
            "disabled": false,
            "icon": "",
            "layout": "IPY_MODEL_fa0425c674d5404b98f8cc497eaeb64b",
            "style": "IPY_MODEL_e10c683350354acbba8a4c3ea67b9e2a",
            "tooltip": ""
          }
        },
        "761468c54108408595ef7f3f16278ffd": {
          "model_module": "@jupyter-widgets/controls",
          "model_name": "ButtonModel",
          "model_module_version": "1.5.0",
          "state": {
            "_dom_classes": [],
            "_model_module": "@jupyter-widgets/controls",
            "_model_module_version": "1.5.0",
            "_model_name": "ButtonModel",
            "_view_count": null,
            "_view_module": "@jupyter-widgets/controls",
            "_view_module_version": "1.5.0",
            "_view_name": "ButtonView",
            "button_style": "danger",
            "description": "Cancel Goal",
            "disabled": false,
            "icon": "",
            "layout": "IPY_MODEL_efefe080cb204f44a606657ccd6820bc",
            "style": "IPY_MODEL_09f4dc5e8f0747f88693497dd22b9cbc",
            "tooltip": ""
          }
        },
        "d31f8d69add0463d8b66806474e16139": {
          "model_module": "@jupyter-widgets/base",
          "model_name": "LayoutModel",
          "model_module_version": "1.2.0",
          "state": {
            "_model_module": "@jupyter-widgets/base",
            "_model_module_version": "1.2.0",
            "_model_name": "LayoutModel",
            "_view_count": null,
            "_view_module": "@jupyter-widgets/base",
            "_view_module_version": "1.2.0",
            "_view_name": "LayoutView",
            "align_content": null,
            "align_items": null,
            "align_self": null,
            "border": null,
            "bottom": null,
            "display": null,
            "flex": null,
            "flex_flow": null,
            "grid_area": null,
            "grid_auto_columns": null,
            "grid_auto_flow": null,
            "grid_auto_rows": null,
            "grid_column": null,
            "grid_gap": null,
            "grid_row": null,
            "grid_template_areas": null,
            "grid_template_columns": null,
            "grid_template_rows": null,
            "height": null,
            "justify_content": null,
            "justify_items": null,
            "left": null,
            "margin": null,
            "max_height": null,
            "max_width": null,
            "min_height": null,
            "min_width": null,
            "object_fit": null,
            "object_position": null,
            "order": null,
            "overflow": null,
            "overflow_x": null,
            "overflow_y": null,
            "padding": null,
            "right": null,
            "top": null,
            "visibility": null,
            "width": null
          }
        },
        "fdb91e1afed140399d9423b0df7bfec6": {
          "model_module": "@jupyter-widgets/base",
          "model_name": "LayoutModel",
          "model_module_version": "1.2.0",
          "state": {
            "_model_module": "@jupyter-widgets/base",
            "_model_module_version": "1.2.0",
            "_model_name": "LayoutModel",
            "_view_count": null,
            "_view_module": "@jupyter-widgets/base",
            "_view_module_version": "1.2.0",
            "_view_name": "LayoutView",
            "align_content": null,
            "align_items": null,
            "align_self": null,
            "border": null,
            "bottom": null,
            "display": null,
            "flex": null,
            "flex_flow": null,
            "grid_area": null,
            "grid_auto_columns": null,
            "grid_auto_flow": null,
            "grid_auto_rows": null,
            "grid_column": null,
            "grid_gap": null,
            "grid_row": null,
            "grid_template_areas": null,
            "grid_template_columns": null,
            "grid_template_rows": null,
            "height": null,
            "justify_content": null,
            "justify_items": null,
            "left": null,
            "margin": null,
            "max_height": null,
            "max_width": null,
            "min_height": null,
            "min_width": null,
            "object_fit": null,
            "object_position": null,
            "order": null,
            "overflow": null,
            "overflow_x": null,
            "overflow_y": null,
            "padding": null,
            "right": null,
            "top": null,
            "visibility": null,
            "width": null
          }
        },
        "5d2f5afe891a43ba8be5f26088fdbbd2": {
          "model_module": "@jupyter-widgets/controls",
          "model_name": "DescriptionStyleModel",
          "model_module_version": "1.5.0",
          "state": {
            "_model_module": "@jupyter-widgets/controls",
            "_model_module_version": "1.5.0",
            "_model_name": "DescriptionStyleModel",
            "_view_count": null,
            "_view_module": "@jupyter-widgets/base",
            "_view_module_version": "1.2.0",
            "_view_name": "StyleView",
            "description_width": ""
          }
        },
        "c117f49ec0b8474f92a3f90ae954f712": {
          "model_module": "@jupyter-widgets/base",
          "model_name": "LayoutModel",
          "model_module_version": "1.2.0",
          "state": {
            "_model_module": "@jupyter-widgets/base",
            "_model_module_version": "1.2.0",
            "_model_name": "LayoutModel",
            "_view_count": null,
            "_view_module": "@jupyter-widgets/base",
            "_view_module_version": "1.2.0",
            "_view_name": "LayoutView",
            "align_content": null,
            "align_items": null,
            "align_self": null,
            "border": null,
            "bottom": null,
            "display": null,
            "flex": null,
            "flex_flow": null,
            "grid_area": null,
            "grid_auto_columns": null,
            "grid_auto_flow": null,
            "grid_auto_rows": null,
            "grid_column": null,
            "grid_gap": null,
            "grid_row": null,
            "grid_template_areas": null,
            "grid_template_columns": null,
            "grid_template_rows": null,
            "height": null,
            "justify_content": null,
            "justify_items": null,
            "left": null,
            "margin": null,
            "max_height": null,
            "max_width": null,
            "min_height": null,
            "min_width": null,
            "object_fit": null,
            "object_position": null,
            "order": null,
            "overflow": null,
            "overflow_x": null,
            "overflow_y": null,
            "padding": null,
            "right": null,
            "top": null,
            "visibility": null,
            "width": null
          }
        },
        "182275e217494c3f8bdc29c43f3783df": {
          "model_module": "@jupyter-widgets/controls",
          "model_name": "DescriptionStyleModel",
          "model_module_version": "1.5.0",
          "state": {
            "_model_module": "@jupyter-widgets/controls",
            "_model_module_version": "1.5.0",
            "_model_name": "DescriptionStyleModel",
            "_view_count": null,
            "_view_module": "@jupyter-widgets/base",
            "_view_module_version": "1.2.0",
            "_view_name": "StyleView",
            "description_width": ""
          }
        },
        "fa0425c674d5404b98f8cc497eaeb64b": {
          "model_module": "@jupyter-widgets/base",
          "model_name": "LayoutModel",
          "model_module_version": "1.2.0",
          "state": {
            "_model_module": "@jupyter-widgets/base",
            "_model_module_version": "1.2.0",
            "_model_name": "LayoutModel",
            "_view_count": null,
            "_view_module": "@jupyter-widgets/base",
            "_view_module_version": "1.2.0",
            "_view_name": "LayoutView",
            "align_content": null,
            "align_items": null,
            "align_self": null,
            "border": null,
            "bottom": null,
            "display": null,
            "flex": null,
            "flex_flow": null,
            "grid_area": null,
            "grid_auto_columns": null,
            "grid_auto_flow": null,
            "grid_auto_rows": null,
            "grid_column": null,
            "grid_gap": null,
            "grid_row": null,
            "grid_template_areas": null,
            "grid_template_columns": null,
            "grid_template_rows": null,
            "height": null,
            "justify_content": null,
            "justify_items": null,
            "left": null,
            "margin": null,
            "max_height": null,
            "max_width": null,
            "min_height": null,
            "min_width": null,
            "object_fit": null,
            "object_position": null,
            "order": null,
            "overflow": null,
            "overflow_x": null,
            "overflow_y": null,
            "padding": null,
            "right": null,
            "top": null,
            "visibility": null,
            "width": null
          }
        },
        "e10c683350354acbba8a4c3ea67b9e2a": {
          "model_module": "@jupyter-widgets/controls",
          "model_name": "ButtonStyleModel",
          "model_module_version": "1.5.0",
          "state": {
            "_model_module": "@jupyter-widgets/controls",
            "_model_module_version": "1.5.0",
            "_model_name": "ButtonStyleModel",
            "_view_count": null,
            "_view_module": "@jupyter-widgets/base",
            "_view_module_version": "1.2.0",
            "_view_name": "StyleView",
            "button_color": null,
            "font_weight": ""
          }
        },
        "efefe080cb204f44a606657ccd6820bc": {
          "model_module": "@jupyter-widgets/base",
          "model_name": "LayoutModel",
          "model_module_version": "1.2.0",
          "state": {
            "_model_module": "@jupyter-widgets/base",
            "_model_module_version": "1.2.0",
            "_model_name": "LayoutModel",
            "_view_count": null,
            "_view_module": "@jupyter-widgets/base",
            "_view_module_version": "1.2.0",
            "_view_name": "LayoutView",
            "align_content": null,
            "align_items": null,
            "align_self": null,
            "border": null,
            "bottom": null,
            "display": null,
            "flex": null,
            "flex_flow": null,
            "grid_area": null,
            "grid_auto_columns": null,
            "grid_auto_flow": null,
            "grid_auto_rows": null,
            "grid_column": null,
            "grid_gap": null,
            "grid_row": null,
            "grid_template_areas": null,
            "grid_template_columns": null,
            "grid_template_rows": null,
            "height": null,
            "justify_content": null,
            "justify_items": null,
            "left": null,
            "margin": null,
            "max_height": null,
            "max_width": null,
            "min_height": null,
            "min_width": null,
            "object_fit": null,
            "object_position": null,
            "order": null,
            "overflow": null,
            "overflow_x": null,
            "overflow_y": null,
            "padding": null,
            "right": null,
            "top": null,
            "visibility": null,
            "width": null
          }
        },
        "09f4dc5e8f0747f88693497dd22b9cbc": {
          "model_module": "@jupyter-widgets/controls",
          "model_name": "ButtonStyleModel",
          "model_module_version": "1.5.0",
          "state": {
            "_model_module": "@jupyter-widgets/controls",
            "_model_module_version": "1.5.0",
            "_model_name": "ButtonStyleModel",
            "_view_count": null,
            "_view_module": "@jupyter-widgets/base",
            "_view_module_version": "1.2.0",
            "_view_name": "StyleView",
            "button_color": null,
            "font_weight": ""
          }
        }
      }
    }
  },
  "nbformat": 4,
  "nbformat_minor": 5
}